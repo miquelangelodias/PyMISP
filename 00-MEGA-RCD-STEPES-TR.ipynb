{
 "cells": [
  {
   "cell_type": "code",
   "execution_count": null,
   "metadata": {},
   "outputs": [],
   "source": [
    "pip install pycvesearch cve_searchsploit cpe bs4 "
   ]
  },
  {
   "cell_type": "code",
   "execution_count": null,
   "metadata": {},
   "outputs": [],
   "source": [
    "from bs4 import BeautifulSoup\n",
    "import os\n",
    "import pandas as pd\n",
    "from io import StringIO\n",
    "#import ipaddress\n",
    "from auxiliary import aux\n"
   ]
  },
  {
   "cell_type": "code",
   "execution_count": null,
   "metadata": {},
   "outputs": [],
   "source": [
    "alvos = ['35.199.110.191','54.196.179.100']"
   ]
  },
  {
   "cell_type": "code",
   "execution_count": null,
   "metadata": {},
   "outputs": [],
   "source": [
    "resultados = os.path.join(os.getcwd(),'03-resultados_STEPES-TR')"
   ]
  },
  {
   "cell_type": "markdown",
   "metadata": {},
   "source": [
    "## Passo 1 - Coletar Dados"
   ]
  },
  {
   "cell_type": "markdown",
   "metadata": {},
   "source": [
    "#### A1.2 - Total"
   ]
  },
  {
   "cell_type": "raw",
   "metadata": {},
   "source": [
    "Automatizar consulta ao CIRCL, endereço ``https://cve.circl.lu/api/cve/'', ou por contêiner, endereço ``https://github.com/cve-search/CVE-Search-Docker.git'';  e\n",
    "Baixar ou automatizar busca em base de códigos de exploração de vulnerabilidades."
   ]
  },
  {
   "cell_type": "code",
   "execution_count": null,
   "metadata": {},
   "outputs": [],
   "source": [
    "# busca CVE diretamente na API ``https://cve.circl.lu/api/cve/''\n",
    "from cve import cve\n",
    "# busca CVE a partir de contêiner, endereço ``https://github.com/cve-search/CVE-Search-Docker.git'\n",
    "from pycvesearch import CVESearch\n",
    "cve_search = CVESearch('http://192.168.0.254:5000') "
   ]
  },
  {
   "cell_type": "code",
   "execution_count": null,
   "metadata": {},
   "outputs": [],
   "source": [
    "# busca Exploit\n",
    "import cve_searchsploit as CS"
   ]
  },
  {
   "cell_type": "markdown",
   "metadata": {},
   "source": [
    "## Passo 2 - Avaliar Vulnerabilidades"
   ]
  },
  {
   "cell_type": "markdown",
   "metadata": {},
   "source": [
    "#### A2.1 Parcial"
   ]
  },
  {
   "cell_type": "raw",
   "metadata": {},
   "source": [
    "Executar scanners locais para descobrir serviços (WANG; HONG, 2016; SHAKIBAZAD, 2019); e\n",
    "Executar verificadores locais para detectar vulnerabilidades (SHAKIBAZAD, 2019)."
   ]
  },
  {
   "cell_type": "code",
   "execution_count": null,
   "metadata": {},
   "outputs": [],
   "source": [
    "# Obter serviços web\n",
    "nmap_cmd = ['nmap -p0-65535 -T5 -Pn -sV -sT --min-rate 1000 ',\n",
    "            'nmap -sS -v -Pn -A --open --script=vuln '\n",
    "            #'nmap -sU -A -PN -n -pU:19,53,123,161 --script=ntp-monlist,dns-recursion,snmp-sysdescr ',\n",
    "            #'nmap --script=mysql-brute '\n",
    "            ]\n",
    "if os.path.exists(resultados) is False:\n",
    "    os.mkdir(resultados)\n",
    "os.chdir(resultados)\n",
    "for alvo in alvos:\n",
    "    #print('############# ',alvo,' #############')\n",
    "    for cmd in range(0,len(nmap_cmd)):\n",
    "        tmp_cmd = nmap_cmd[cmd] + '-oX ' + os.path.join(resultados, '01-nmap_result+') +  alvo + '+_' + str(cmd+1) + '.xml ' + alvo\n",
    "        print(tmp_cmd)\n",
    "        #os.system(tmp_cmd)\n",
    "os.chdir('..')"
   ]
  },
  {
   "cell_type": "markdown",
   "metadata": {},
   "source": [
    "#### A2.2 Parcial"
   ]
  },
  {
   "cell_type": "raw",
   "metadata": {},
   "source": [
    "Identificar o padrão CPE de Sistemas Operacionais e serviços web."
   ]
  },
  {
   "cell_type": "code",
   "execution_count": null,
   "metadata": {},
   "outputs": [],
   "source": [
    "os.chdir(resultados)\n",
    "for alvo in alvos:\n",
    "    #print('########\\nIniciando alvo: '+alvo+'\\n########')\n",
    "    try:\n",
    "        port_list = aux.get_port('01-nmap_result+' + alvo + '+_1.xml')\n",
    "    except:\n",
    "        None\n",
    "    try:\n",
    "        os_cpe,port_srv,name_srv,cpe_srv = aux.get_port_info('01-nmap_result+' + alvo + '+_2.xml')\n",
    "    except:\n",
    "        None\n",
    "    port_list.extend(port_srv)\n",
    "    port_list = sorted(set(port_list))\n",
    "    data_cpe = {'alvo': alvo, \n",
    "                'os': os_cpe, \n",
    "                'portas': port_list,\n",
    "                'srv': {'name': name_srv,\n",
    "                        'cpe': cpe_srv,\n",
    "                        'port': port_srv}}\n",
    "    (pd.json_normalize(data_cpe)).to_json('02-cpe+' + alvo + '.json')\n",
    "os.chdir('..')"
   ]
  },
  {
   "cell_type": "code",
   "execution_count": null,
   "metadata": {},
   "outputs": [],
   "source": [
    "pd_a22 = pd.DataFrame(None)\n",
    "for alvo in alvos:\n",
    "    pd_a22 = pd.concat(\n",
    "        [pd_a22, pd.read_json(os.path.join(resultados,'02-cpe+' + alvo + '.json'))\n",
    "        ], ignore_index=True)\n",
    "pd_a22"
   ]
  },
  {
   "cell_type": "markdown",
   "metadata": {},
   "source": [
    "#### A2.1 Parcial (Continuação)"
   ]
  },
  {
   "cell_type": "code",
   "execution_count": null,
   "metadata": {},
   "outputs": [],
   "source": [
    "#Executar verificadores locais para detectar vulnerabilidades (SHAKIBAZAD, 2019).\n",
    "# Nikto2\n",
    "os.system('apt-get update && apt-get install -y perl libnet-ssleay-perl openssl libauthen-pam-perl libio-pty-perl')\n",
    "resultados_nikto = os.path.join(resultados,'2.1-nikto')\n",
    "if os.path.exists(resultados_nikto) is False:\n",
    "    os.mkdir(resultados_nikto)\n",
    "os.chdir('/home/suporte/work/nikto/program/')\n",
    "for x in pd_a22.index:\n",
    "    print('Alvo: ', pd_a22.loc[x].iloc[0], ' Portas: ', len(pd_a22.loc[x].iloc[2]))\n",
    "    for y in range(0,len(pd_a22.loc[x].iloc[2])):\n",
    "        tmp_cmd1 = pd_a22.loc[x].iloc[0] + ':' + (pd_a22.loc[x].iloc[2])[y]\n",
    "        tmp_cmd2 = pd_a22.loc[x].iloc[0] + '_' + (pd_a22.loc[x].iloc[2])[y]\n",
    "        tmp_cmd3 = ' -o '+ os.path.join(resultados_nikto,'2.1-nikto+' + tmp_cmd2 + '.txt')\n",
    "        tmp_cmd = 'perl nikto.pl -host ' + str(tmp_cmd1) + str(tmp_cmd3)\n",
    "        #os.system(tmp_cmd)\n",
    "        print(tmp_cmd)\n",
    "os.chdir(resultados)\n",
    "os.chdir('..')"
   ]
  },
  {
   "cell_type": "code",
   "execution_count": null,
   "metadata": {},
   "outputs": [],
   "source": [
    "# Movendo relatórios sem dados\n",
    "resultados_nikto_nweb = os.path.join(resultados,'2.1-nikto-nweb')\n",
    "if os.path.exists(resultados_nikto_nweb) is False:\n",
    "    os.mkdir(resultados_nikto_nweb)\n",
    "os.chdir(resultados_nikto)\n",
    "arqs = os.listdir()\n",
    "for arq in arqs:\n",
    "    if(arq[:3] == '2.1'):\n",
    "        f = open(arq, \"r\").readlines()\n",
    "        try:\n",
    "            if(str(f[2][0:3]) == '+ T'):\n",
    "                None\n",
    "        except:\n",
    "            os.rename(arq,os.path.join(resultados_nikto_nweb,arq))\n",
    "    else:\n",
    "        print(arq)\n",
    "os.chdir(resultados)\n",
    "os.chdir('..')"
   ]
  },
  {
   "cell_type": "markdown",
   "metadata": {},
   "source": [
    "#### A2.3 Parcial"
   ]
  },
  {
   "cell_type": "raw",
   "metadata": {},
   "source": [
    "Identificar vulnerabilidades na base de CVE através dos CPE (KURE; ISLAM, 2019)."
   ]
  },
  {
   "cell_type": "code",
   "execution_count": null,
   "metadata": {},
   "outputs": [],
   "source": [
    "os.chdir(resultados) #add cpe cpe:/:microsoft:windows_7:sp1\n",
    "for alvo in alvos:\n",
    "    pd_cve = pd.DataFrame(None)\n",
    "    print('########\\nIniciando alvo: '+alvo+'\\n########')\n",
    "    pd_a23 = pd.read_json('02-cpe+' + alvo + '.json')\n",
    "    list_cpe = aux.clean_list_cpe(pd_a23['srv.cpe'].loc[0],'a')\n",
    "    list_cpe_os = aux.clean_list_cpe(pd_a23['srv.cpe'].loc[0],'o')\n",
    "    list_cpe_os.extend(aux.clean_list_cpe(pd_a23['os'].loc[0],'o'))\n",
    "    list_cpe.extend(list_cpe_os)\n",
    "    for cpe_id in list_cpe:\n",
    "        if(cpe_id != 'unknown'):\n",
    "            print('Iniciando processo no CPE: '+ cpe_id)\n",
    "            w = cve_search.search(aux.get_cpe(cpe_id))\n",
    "            if(w['total'] > 0):\n",
    "                pd_a23_cve = pd.json_normalize(w['results'])\n",
    "                pd_a23_cve = pd_a23_cve[\n",
    "                    ['id','cvss','cwe','summary','references',\n",
    "                     'access.authentication','access.complexity','access.vector',\n",
    "                     'impact.availability','impact.confidentiality','impact.integrity']]\n",
    "                data_cve = {'alvo': alvo, \n",
    "                        'cpe': cpe_id,\n",
    "                        'cve': pd_a23_cve.to_json()}\n",
    "                pd_cve = pd.concat([pd_cve,pd.json_normalize(data_cve)], ignore_index=True)\n",
    "            else:\n",
    "                print(aux.get_cpe(cpe_id), 'sem CVE!')\n",
    "            \n",
    "    if(not (pd_cve.empty)):\n",
    "        pd_cve.to_json('03-cve+' + alvo + '.json')\n",
    "os.chdir('..')"
   ]
  },
  {
   "cell_type": "code",
   "execution_count": null,
   "metadata": {},
   "outputs": [],
   "source": [
    "pd_a23 = pd.DataFrame(None)\n",
    "for alvo in alvos:\n",
    "    try:\n",
    "        pd_a23= pd.concat(\n",
    "        [pd_a23,pd.read_json(os.path.join(resultados,'03-cve+' + alvo + '.json'))], ignore_index=True)\n",
    "    except:\n",
    "        None\n",
    "pd_a23"
   ]
  },
  {
   "cell_type": "markdown",
   "metadata": {},
   "source": [
    "#### A2.4 Parcial"
   ]
  },
  {
   "cell_type": "raw",
   "metadata": {},
   "source": [
    "Executar a exploração de vulnerabilidades encontradas; e\n",
    "Adicionar a base de conhecimento os Testes de Intrusão com sucesso;"
   ]
  },
  {
   "cell_type": "code",
   "execution_count": null,
   "metadata": {},
   "outputs": [],
   "source": [
    "\n"
   ]
  },
  {
   "cell_type": "code",
   "execution_count": null,
   "metadata": {},
   "outputs": [],
   "source": [
    "from misp import misp\n",
    "# CVE com exploit no MISP\n",
    "relative_path = 'attributes/restSearch'\n",
    "body = {\n",
    "    \"returnFormat\": \"json\",\n",
    "    \"type\": \"vulnerability\"}\n",
    "\n",
    "dados = misp.pymisp.direct_call(relative_path, body)\n",
    "misp_dados = pd.DataFrame(dados['Attribute'])\n",
    "print('Quantidade de CVE com Exploit disponível: ',len(misp_dados))\n",
    "misp_dados[['event_id','category','type','value']].head()"
   ]
  },
  {
   "cell_type": "code",
   "execution_count": null,
   "metadata": {},
   "outputs": [],
   "source": [
    "# Criar tag\n",
    "misp.pymisp.add_tag({\"name\": \"Exploit Available\", \n",
    "                     \"colour\": \"#22681c\", \n",
    "                     \"exportable\": 'true', \n",
    "                     \"org_id\": \"0\", \n",
    "                     \"user_id\": \"0\", \n",
    "                     \"hide_tag\": 'false'})\n",
    "########################################################################\n",
    "\n",
    "\n",
    "# Aplicar tag em atributos ou eventos no MISP\n",
    "name_tag = \"Exploit Available\"\n",
    "for x in misp_dados.index:\n",
    "    uuid_event = misp_dados.iloc[x].loc['uuid']\n",
    "    misp.pymisp.tag(misp_entity=uuid_event,tag=name_tag)\n",
    "\n",
    "########################################################################\n",
    "# Criar evento com o alvo\n",
    "\n"
   ]
  },
  {
   "cell_type": "markdown",
   "metadata": {},
   "source": [
    "## Passo 3 - Avaliar Riscos"
   ]
  },
  {
   "cell_type": "markdown",
   "metadata": {},
   "source": [
    "#### A3.1 Parcial"
   ]
  },
  {
   "cell_type": "raw",
   "metadata": {},
   "source": [
    "Identificar os riscos através das vulnerabilidades encontradas"
   ]
  },
  {
   "cell_type": "code",
   "execution_count": null,
   "metadata": {},
   "outputs": [],
   "source": []
  },
  {
   "cell_type": "code",
   "execution_count": null,
   "metadata": {},
   "outputs": [],
   "source": []
  },
  {
   "cell_type": "markdown",
   "metadata": {},
   "source": [
    "#### A3.2 Parcial"
   ]
  },
  {
   "cell_type": "raw",
   "metadata": {},
   "source": [
    "Identificar a severidade temporal (ANI et al., 2020);\n",
    "Identificar existência de códigos maliciosos para explorar vulnerabilidade; e\n",
    "Identificar o vetor de acesso."
   ]
  },
  {
   "cell_type": "code",
   "execution_count": null,
   "metadata": {},
   "outputs": [],
   "source": [
    "pd_a32 = pd.DataFrame(None)\n",
    "for alvo in alvos:\n",
    "    try:\n",
    "        pd_a32= pd.concat(\n",
    "        [pd_a32,pd.read_json(os.path.join(resultados,'03-cve+' + alvo + '.json'))], ignore_index=True)\n",
    "    except:\n",
    "        None\n",
    "pd_a32"
   ]
  },
  {
   "cell_type": "code",
   "execution_count": null,
   "metadata": {},
   "outputs": [],
   "source": [
    "x=0\n",
    "y=1\n",
    "while x < (len(pd_a32)-1):\n",
    "    if(str(pd_a32.loc[x].iloc[0]) != str(pd_a32.loc[x+1].iloc[0])):\n",
    "        print('Alvo = ',pd_a32.loc[x].iloc[0],'CPE = ',y)\n",
    "        y=1\n",
    "    x = x+1\n",
    "    y = y+1\n",
    "print('Alvo = ',pd_a32.loc[x-1].iloc[0],'CPE = ',y)"
   ]
  },
  {
   "cell_type": "code",
   "execution_count": null,
   "metadata": {},
   "outputs": [],
   "source": [
    "tmp_cve = pd.read_json(pd_a32.loc[0].iloc[2])\n",
    "tmp_cve.sort_values([\"cvss\"], ascending=True, inplace=True)\n",
    "print(len(tmp_cve))\n",
    "\n",
    "#tmp_cve.drop_duplicates(ignore_index=True,inplace=True)\n",
    "print((tmp_cve))\n",
    "\n",
    "x = 0\n",
    "tmp_alto = 0\n",
    "tmp_medio = 0\n",
    "while x < (len(pd_a32)-1):\n",
    "    if(str(pd_a32.loc[x].iloc[0]) != str(pd_a32.loc[x+1].iloc[0])):\n",
    "        print('Alvo = ',pd_a32.loc[x].iloc[0],'Alto = ',tmp_alto,'Médio = ',tmp_medio)\n",
    "        tmp_alto = 0\n",
    "        tmp_medio = 0\n",
    "    tmp_cve = pd.read_json(pd_a32.loc[x].iloc[2])\n",
    "    tmp_cve_alto,tmp_cve_medio,tmp_cve_baixo = aux.get_len(tmp_cve) #aux.\n",
    "    tmp_alto = tmp_alto + tmp_cve_alto\n",
    "    tmp_medio = tmp_medio + tmp_cve_medio\n",
    "    x = x+1\n",
    "print('Alvo = ',pd_a32.loc[x-1].iloc[0],'Alto = ',tmp_alto,'Médio = ',tmp_medio)"
   ]
  },
  {
   "cell_type": "code",
   "execution_count": null,
   "metadata": {},
   "outputs": [],
   "source": [
    "tmp_cve = pd.read_json(pd_a32.loc[x].iloc[2])\n",
    "tmp_cve"
   ]
  },
  {
   "cell_type": "code",
   "execution_count": null,
   "metadata": {},
   "outputs": [],
   "source": [
    "y = 0\n",
    "lista_acesso = []\n",
    "while y < (len(pd_a32)-1):\n",
    "    if(str(pd_a32.loc[y].iloc[0]) != str(pd_a32.loc[y+1].iloc[0])):\n",
    "        print('## Alvo = ',pd_a32.loc[y].iloc[0],'\\n\\tAcesso = ',lista_acesso)\n",
    "        lista_acesso = []\n",
    "    tmp_cve = pd.read_json(pd_a32.loc[y].iloc[2])\n",
    "    for x in tmp_cve.index:\n",
    "        tmp_acesso = 'Complexidade='+tmp_cve['access.complexity'].loc[x]+' Vetor='+tmp_cve['access.vector'].loc[x]\n",
    "        if(tmp_acesso not in lista_acesso):\n",
    "            lista_acesso.append(tmp_acesso)\n",
    "    y=y+1\n",
    "print('## Alvo = ',pd_a32.loc[y].iloc[0],'\\n\\tAcesso = ',lista_acesso)"
   ]
  },
  {
   "cell_type": "code",
   "execution_count": null,
   "metadata": {},
   "outputs": [],
   "source": [
    "tmp_cve['access.complexity'].loc[33]"
   ]
  },
  {
   "cell_type": "markdown",
   "metadata": {},
   "source": [
    "#### A3.3 Parcial"
   ]
  },
  {
   "cell_type": "raw",
   "metadata": {},
   "source": [
    "Correlacionar os ativos às CWE."
   ]
  },
  {
   "cell_type": "code",
   "execution_count": null,
   "metadata": {},
   "outputs": [],
   "source": [
    "# print com alvo, cwe(sem duplicatas), descrição"
   ]
  },
  {
   "cell_type": "markdown",
   "metadata": {},
   "source": [
    "## Passo 4 - Mitigar Vulnerabilidades e Riscos"
   ]
  },
  {
   "cell_type": "markdown",
   "metadata": {},
   "source": [
    "#### A4.2 Parcial"
   ]
  },
  {
   "cell_type": "raw",
   "metadata": {},
   "source": [
    "Identificar medidas para reduzir exposição."
   ]
  },
  {
   "cell_type": "code",
   "execution_count": null,
   "metadata": {},
   "outputs": [],
   "source": [
    "pd_a42 = pd.DataFrame(None)\n",
    "for alvo in alvos:\n",
    "    try:\n",
    "        pd_a42= pd.concat(\n",
    "        [pd_a42,pd.read_json(os.path.join(resultados,'03-cve+' + alvo + '.json'))], ignore_index=True)\n",
    "    except:\n",
    "        None\n",
    "pd_a42.head()"
   ]
  },
  {
   "cell_type": "code",
   "execution_count": null,
   "metadata": {},
   "outputs": [],
   "source": [
    "from misp import misp\n",
    "# Alvo com exploit postado no MISP\n",
    "relative_path = 'attributes/restSearch'\n",
    "y = 0\n",
    "while y < (len(pd_a42)-1):\n",
    "    tmp_cve = pd.read_json(pd_a42.loc[y].iloc[2])\n",
    "    for x in range(0,len(tmp_cve)):\n",
    "        dados = misp.pymisp.direct_call(relative_path, \n",
    "                                    {\"returnFormat\": \"json\",\"value\": tmp_cve['id'].loc[x]})\n",
    "        misp_dados = pd.DataFrame(dados['Attribute'])\n",
    "        if(not (misp_dados.empty)):\n",
    "            print('Alvo: ',pd_a42.loc[y].iloc[0],'CVE: ',tmp_cve['id'].loc[x],', com EXPLOIT!')\n",
    "    y=y+1"
   ]
  },
  {
   "cell_type": "code",
   "execution_count": null,
   "metadata": {},
   "outputs": [],
   "source": [
    "from misp import misp\n",
    "# Alvo com exploit postado no MISP\n",
    "relative_path = 'events/nids/snort/download/'\n",
    "dados = misp.pymisp.direct_call(relative_path, \n",
    "                            {\"returnFormat\": \"json\",\"to_ids\": True})\n",
    "data_pd = pd.json_normalize(dados)"
   ]
  },
  {
   "cell_type": "code",
   "execution_count": null,
   "metadata": {},
   "outputs": [],
   "source": [
    "print('Quantidade de linhas de dados = ', len(data_pd))\n",
    "df = pd.json_normalize(data_pd['Event.Attribute'].loc[0]) #Apenas 1 linha de evento\n",
    "df[['category','to_ids','value']]"
   ]
  },
  {
   "cell_type": "code",
   "execution_count": null,
   "metadata": {},
   "outputs": [],
   "source": []
  },
  {
   "cell_type": "code",
   "execution_count": null,
   "metadata": {},
   "outputs": [],
   "source": [
    "dados[0]"
   ]
  },
  {
   "cell_type": "code",
   "execution_count": null,
   "metadata": {},
   "outputs": [],
   "source": [
    "misp.search('attibutes','yara')"
   ]
  },
  {
   "cell_type": "markdown",
   "metadata": {},
   "source": [
    "## Passo 5 - Apresentar Relatório de Ameaças"
   ]
  },
  {
   "cell_type": "markdown",
   "metadata": {},
   "source": [
    "#### A5.1 Parcial"
   ]
  },
  {
   "cell_type": "raw",
   "metadata": {},
   "source": [
    "Identificar grafo de possíveis ataques."
   ]
  },
  {
   "cell_type": "code",
   "execution_count": null,
   "metadata": {},
   "outputs": [],
   "source": [
    "\n"
   ]
  },
  {
   "cell_type": "markdown",
   "metadata": {},
   "source": [
    "#### A5.2 Parcial"
   ]
  },
  {
   "cell_type": "raw",
   "metadata": {},
   "source": [
    "Apresentar relatório de cada ativo."
   ]
  },
  {
   "cell_type": "code",
   "execution_count": null,
   "metadata": {},
   "outputs": [],
   "source": [
    "pd_a22 = pd.DataFrame(None)\n",
    "for alvo in alvos:\n",
    "    pd_a22 = pd.concat(\n",
    "        [pd_a22, pd.read_json(os.path.join(resultados,'02-cpe+' + alvo + '.json'))\n",
    "        ], ignore_index=True)\n",
    "pd_a22.head()"
   ]
  },
  {
   "cell_type": "code",
   "execution_count": null,
   "metadata": {},
   "outputs": [],
   "source": [
    "pd_a23 = pd.DataFrame(None)\n",
    "for alvo in alvos:\n",
    "    try:\n",
    "        pd_a23= pd.concat(\n",
    "        [pd_a23,pd.read_json(os.path.join(resultados,'03-cve+' + alvo + '.json'))], ignore_index=True)\n",
    "    except:\n",
    "        None\n",
    "pd_a23.head()"
   ]
  },
  {
   "cell_type": "code",
   "execution_count": null,
   "metadata": {},
   "outputs": [],
   "source": []
  },
  {
   "cell_type": "code",
   "execution_count": null,
   "metadata": {},
   "outputs": [],
   "source": []
  },
  {
   "cell_type": "code",
   "execution_count": null,
   "metadata": {},
   "outputs": [],
   "source": []
  },
  {
   "cell_type": "code",
   "execution_count": null,
   "metadata": {},
   "outputs": [],
   "source": []
  },
  {
   "cell_type": "code",
   "execution_count": null,
   "metadata": {},
   "outputs": [],
   "source": []
  }
 ],
 "metadata": {
  "kernelspec": {
   "display_name": "Python 3",
   "language": "python",
   "name": "python3"
  },
  "language_info": {
   "codemirror_mode": {
    "name": "ipython",
    "version": 3
   },
   "file_extension": ".py",
   "mimetype": "text/x-python",
   "name": "python",
   "nbconvert_exporter": "python",
   "pygments_lexer": "ipython3",
   "version": "3.8.6"
  }
 },
 "nbformat": 4,
 "nbformat_minor": 4
}
