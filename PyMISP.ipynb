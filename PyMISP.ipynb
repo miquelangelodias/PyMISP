{
 "cells": [
  {
   "cell_type": "code",
   "execution_count": 1,
   "id": "d1829d8a",
   "metadata": {},
   "outputs": [],
   "source": [
    "# Remover mensagem de aviso de segurança\n",
    "import requests\n",
    "from requests.packages.urllib3.exceptions import InsecureRequestWarning\n",
    "\n",
    "requests.packages.urllib3.disable_warnings(InsecureRequestWarning)"
   ]
  },
  {
   "cell_type": "code",
   "execution_count": 2,
   "id": "385a0cb7",
   "metadata": {},
   "outputs": [],
   "source": [
    "from misp import misp\n",
    "import os\n",
    "import pandas as pd\n",
    "from io import StringIO\n",
    "#from auxiliary import aux"
   ]
  },
  {
   "cell_type": "code",
   "execution_count": null,
   "id": "ec5e8869",
   "metadata": {},
   "outputs": [],
   "source": []
  },
  {
   "cell_type": "code",
   "execution_count": null,
   "id": "947695f0",
   "metadata": {},
   "outputs": [],
   "source": [
    "from misp import misp\n",
    "# CVE com exploit no MISP\n",
    "relative_path = 'attributes/restSearch'\n",
    "body = {\n",
    "    \"returnFormat\": \"json\",\n",
    "    \"type\": \"vulnerability\"}\n",
    "    \n",
    "dados = misp.pymisp.direct_call(relative_path, body)\n",
    "misp_dados = pd.DataFrame(dados['Attribute'])\n",
    "print('Quantidade de CVE com Exploit disponível: ',len(misp_dados))\n",
    "misp_dados[['event_id','category','type','value']].head()"
   ]
  },
  {
   "cell_type": "code",
   "execution_count": null,
   "id": "0b7e6523",
   "metadata": {},
   "outputs": [],
   "source": []
  },
  {
   "cell_type": "code",
   "execution_count": null,
   "id": "313a63cf",
   "metadata": {},
   "outputs": [],
   "source": [
    "misp.search('attibutes','yara')"
   ]
  },
  {
   "cell_type": "code",
   "execution_count": null,
   "id": "1c400080",
   "metadata": {},
   "outputs": [],
   "source": [
    "relative_path = 'events/nids/snort/download/'\n",
    "dados = misp.pymisp.direct_call(relative_path, \n",
    "                            {\"returnFormat\": \"json\",\"to_ids\": True})\n",
    "data_pd = pd.json_normalize(dados)\n",
    "print('Quantidade de linhas de dados = ', len(data_pd))\n",
    "df = pd.json_normalize(data_pd['Event.Attribute'].loc[0]) #Apenas 1 linha de evento\n",
    "df[['category','to_ids','value']]"
   ]
  },
  {
   "cell_type": "code",
   "execution_count": null,
   "id": "7e5d2a03",
   "metadata": {},
   "outputs": [],
   "source": []
  },
  {
   "cell_type": "code",
   "execution_count": null,
   "id": "e5f5d85b",
   "metadata": {},
   "outputs": [],
   "source": []
  },
  {
   "cell_type": "code",
   "execution_count": null,
   "id": "76af0a26",
   "metadata": {},
   "outputs": [],
   "source": [
    "from misp import misp\n",
    "# Alvo com exploit postado no MISP\n",
    "relative_path = 'events/nids/snort/download/'\n",
    "dados = misp.pymisp.direct_call(relative_path, \n",
    "                            {\"returnFormat\": \"json\",\"to_ids\": True})\n",
    "data_pd = pd.json_normalize(dados)"
   ]
  },
  {
   "cell_type": "code",
   "execution_count": null,
   "id": "7048eff2",
   "metadata": {},
   "outputs": [],
   "source": [
    "print('Quantidade de linhas de dados = ', len(data_pd))\n",
    "df = pd.json_normalize(data_pd['Event.Attribute'].loc[0]) #Apenas 1 linha de evento\n",
    "df[['category','to_ids','value']]"
   ]
  },
  {
   "cell_type": "code",
   "execution_count": null,
   "id": "0dfaad53",
   "metadata": {},
   "outputs": [],
   "source": []
  }
 ],
 "metadata": {
  "kernelspec": {
   "display_name": "Python 3 (ipykernel)",
   "language": "python",
   "name": "python3"
  },
  "language_info": {
   "codemirror_mode": {
    "name": "ipython",
    "version": 3
   },
   "file_extension": ".py",
   "mimetype": "text/x-python",
   "name": "python",
   "nbconvert_exporter": "python",
   "pygments_lexer": "ipython3",
   "version": "3.8.12"
  }
 },
 "nbformat": 4,
 "nbformat_minor": 5
}
